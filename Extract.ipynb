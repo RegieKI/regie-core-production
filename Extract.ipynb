{
  "nbformat": 4,
  "nbformat_minor": 0,
  "metadata": {
    "colab": {
      "name": "DataDB.ipynb",
      "provenance": [],
      "collapsed_sections": []
    },
    "kernelspec": {
      "name": "python3",
      "display_name": "Python 3.8.6 64-bit",
      "metadata": {
        "interpreter": {
          "hash": "31f2aee4e71d21fbe5cf8b01ff0e069b9275f58929596ceb00d14d90e3e16cd6"
        }
      }
    }
  },
  "cells": [
    {
      "cell_type": "code",
      "execution_count": null,
      "metadata": {
        "tags": []
      },
      "outputs": [],
      "source": [
        "%load_ext autoreload\n",
        "%autoreload 2"
      ]
    },
    {
      "cell_type": "code",
      "metadata": {
        "id": "lJswL-evHrrV",
        "outputId": "8ed3800c-1ae3-4589-b54d-e77bca520856",
        "colab": {
          "base_uri": "https://localhost:8080/",
          "height": 191
        },
        "tags": []
      },
      "source": [
        "# This nodebook extracts poses from a data source\n",
        "\n",
        "from pretrained import FaceDetector"
      ],
      "execution_count": null,
      "outputs": []
    },
    {
      "cell_type": "code",
      "execution_count": null,
      "metadata": {},
      "outputs": [],
      "source": [
        "detector = FaceDetector()"
      ]
    },
    {
      "cell_type": "code",
      "execution_count": null,
      "metadata": {
        "tags": []
      },
      "outputs": [],
      "source": [
        "from PIL import Image\n",
        "from IPython.display import display\n",
        "from pathlib import Path\n",
        "from tqdm import tqdm\n",
        "\n",
        "from constants import emotions\n",
        "\n",
        "processed_dir = Path(\"/media/regieki/data/RegieKI/data/processed4\")\n",
        "device_paths = [f for f in processed_dir.iterdir() if f.is_dir()]\n",
        "\n"
      ]
    },
    {
      "cell_type": "code",
      "execution_count": null,
      "metadata": {
        "tags": [
          "outputPrepend"
        ]
      },
      "outputs": [],
      "source": [
        "\n",
        "# Make face montages\n",
        "\n",
        "data_dir = Path(\"/media/regieki/data/RegieKI/data/all_faces2\") \n",
        "\n",
        "for emotion in emotions:\n",
        "    i = 0\n",
        "    for device_path in device_paths:\n",
        "        device = device_path.stem\n",
        "        print(f\"Starting {device} -> {emotion}\")\n",
        "        image_dir  = Path(device_path, emotion)\n",
        "\n",
        "        for image_path in tqdm(image_dir.glob(\"*.png\")):\n",
        "            output_dir = Path(data_dir, device, emotion)\n",
        "\n",
        "            print(output_dir.resolve())\n",
        "            \n",
        "            if(not output_dir.exists()):\n",
        "                output_dir.mkdir(parents=True, exist_ok=True)\n",
        "\n",
        "            face_path  = Path(output_dir, f\"image_{i:06d}.jpg\")\n",
        "\n",
        "            if( face_path.exists()):\n",
        "                continue\n",
        "\n",
        "            img = Image.open(image_path).convert(\"RGB\")\n",
        "            faces = detector.get_faces(img)\n",
        "\n",
        "            for face in faces:                \n",
        "                i += 1\n",
        "                face.save(face_path)"
      ]
    },
    {
      "cell_type": "code",
      "execution_count": null,
      "metadata": {
        "tags": [
          "outputPrepend"
        ]
      },
      "outputs": [],
      "source": [
        "\n",
        "import random\n",
        "import subprocess\n",
        "\n",
        "data_dir = Path(\"/media/regieki/data/RegieKI/data/all_faces2\") \n",
        "video_dir = Path(\"/media/regieki/data/RegieKI/data/videos\") \n",
        "\n",
        "for leaf_dir in data_dir.glob(\"*/*/\"):\n",
        "\n",
        "    i = 0\n",
        "    files = list( leaf_dir.glob(\"image_*.jpg\"))\n",
        "    random.shuffle(files)\n",
        "    for file in files:\n",
        "        \n",
        "        newName = Path(leaf_dir, f\"shuffled_image_{i:06d}.jpeg\")\n",
        "        print(newName.resolve())\n",
        "        file.rename(newName)\n",
        "        i += 1\n",
        "\n",
        "\n",
        "    print(leaf_dir)\n",
        "    device  = leaf_dir.parts[-2]\n",
        "    emotion = leaf_dir.parts[-1]\n",
        "\n",
        "    filename = f\"video_{device}_{emotion}.mp4\"\n",
        "\n",
        "    video_path = Path(video_dir, filename)\n",
        "    image_path = f\"{leaf_dir.resolve()}/shuffled_image_%06d.jpeg\"\n",
        "\n",
        "    cmd = f\"ffmpeg -y -r 60 -i {image_path} -c:v libx264 -vf 'format=yuv420p, pad=ceil(iw/2)*2:ceil(ih/2)*2'  {video_path.resolve()}\"\n",
        "    print(cmd)\n",
        "    try:\n",
        "        subprocess.run([cmd], capture_output=True,  shell=True, check=True)\n",
        "    except:\n",
        "        print(\"Failed\")\n"
      ]
    },
    {
      "cell_type": "code",
      "execution_count": null,
      "metadata": {},
      "outputs": [],
      "source": []
    }
  ]
}