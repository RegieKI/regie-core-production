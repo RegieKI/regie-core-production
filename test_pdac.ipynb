{
 "metadata": {
  "language_info": {
   "codemirror_mode": {
    "name": "ipython",
    "version": 3
   },
   "file_extension": ".py",
   "mimetype": "text/x-python",
   "name": "python",
   "nbconvert_exporter": "python",
   "pygments_lexer": "ipython3",
   "version": "3.8.6-final"
  },
  "orig_nbformat": 2,
  "kernelspec": {
   "name": "python3",
   "display_name": "Python 3"
  }
 },
 "nbformat": 4,
 "nbformat_minor": 2,
 "cells": [
  {
   "cell_type": "code",
   "execution_count": 6,
   "metadata": {},
   "outputs": [],
   "source": [
    "from device import Device\n",
    "\n",
    "device_configs = [\n",
    "    ( \"purple\", \"10.0.8.206\")\n",
    "]\n",
    "devices = [ Device(name, ip) for name, ip in device_configs]\n"
   ]
  },
  {
   "cell_type": "code",
   "execution_count": 7,
   "metadata": {},
   "outputs": [
    {
     "output_type": "stream",
     "name": "stdout",
     "text": [
      "[purple] Setting mode to  'debug'\n",
      "[purple] Setting up stream: 'rtsp://10.0.8.206:11000/stream'\n",
      "[purple] Pipeline:\n",
      "rtspsrc location=rtsp://10.0.8.206:11000/stream is_live=true ! rtph264depay ! decodebin ! videoconvert ! video/x-raw,format=RGB,width=256,height=256,framerate=30/1 ! queue ! appsink name=appsink emit-signals=True\n",
      "[purple] Setting mode to 'debug'\n"
     ]
    }
   ],
   "source": [
    "pdac_mode = \"debug\"\n",
    "\n",
    "\n",
    "for device in devices:\n",
    "    device.setMode(pdac_mode)"
   ]
  },
  {
   "cell_type": "code",
   "execution_count": null,
   "metadata": {},
   "outputs": [],
   "source": []
  }
 ]
}