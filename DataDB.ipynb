{
  "nbformat": 4,
  "nbformat_minor": 0,
  "metadata": {
    "colab": {
      "name": "DataDB.ipynb",
      "provenance": [],
      "collapsed_sections": []
    },
    "kernelspec": {
      "name": "python3",
      "display_name": "Python 3.8.6 64-bit",
      "metadata": {
        "interpreter": {
          "hash": "31f2aee4e71d21fbe5cf8b01ff0e069b9275f58929596ceb00d14d90e3e16cd6"
        }
      }
    }
  },
  "cells": [
    {
      "cell_type": "code",
      "execution_count": null,
      "metadata": {
        "tags": []
      },
      "outputs": [],
      "source": [
        "# This notebook downloads and processes\n",
        "# Replace this with line with your own credentials.\n",
        "%env GOOGLE_APPLICATION_CREDENTIALS=./auth/regieki-f7d2c49ee859.json"
      ]
    },
    {
      "cell_type": "code",
      "metadata": {
        "id": "Zu7u-1UYFBUh"
      },
      "source": [
        "import google.auth\n",
        "credentials, project = google.auth.default()\n"
      ],
      "execution_count": null,
      "outputs": []
    },
    {
      "cell_type": "code",
      "execution_count": null,
      "metadata": {
        "tags": []
      },
      "outputs": [],
      "source": [
        "%load_ext autoreload\n",
        "%autoreload 2"
      ]
    },
    {
      "cell_type": "code",
      "metadata": {
        "id": "lJswL-evHrrV",
        "outputId": "8ed3800c-1ae3-4589-b54d-e77bca520856",
        "colab": {
          "base_uri": "https://localhost:8080/",
          "height": 191
        },
        "tags": [
          "outputPrepend"
        ]
      },
      "source": [
        "from datasets import DbManager\n",
        "\n",
        "dbmanager = DbManager( \"tmp/recordings.db\", data_is_local = True, populate = True)\n"
      ],
      "execution_count": null,
      "outputs": []
    },
    {
      "cell_type": "code",
      "metadata": {
        "id": "aQ9xbDJw7VtU"
      },
      "source": [
        "# Prints summary of database contents\n",
        "\n",
        "from datasets import DbManager\n",
        "\n",
        "devices  = [\n",
        "    \"green\",\n",
        "    \"neon-amber\",\n",
        "    \"neon-yellow\",\n",
        "    \"white\",\n",
        "    \"grey\", \n",
        "    \"neon-green\",\n",
        "    \"light-blue\",\n",
        "    \"yellow\",\n",
        "\n",
        "]   \n",
        "\n",
        "slabels  = [ \n",
        "    \"uberraschung\",\n",
        "    \"wut\",\n",
        "    \"verachtung\",\n",
        "    \"freude\",\n",
        "    \"angst\", \n",
        "    \"trauer\",\n",
        "    \"liebe\"\n",
        "]\n",
        "\n",
        "\n",
        "data = dbmanager.get_dataset(devices=devices, slabels=slabels)\n",
        "\n",
        "for device, emotions in data.items():\n",
        "    row = []\n",
        "    for emotion in emotions.keys():\n",
        "        row.append(sum([ v[1] * 1e-6 for v in data[device][emotion]]))\n",
        "\n",
        "    row = [ f\"{v:06.2f}\" for v in row]\n",
        "    print(f\"{device:>11}  \" + \"  \".join(row))\n",
        "\n",
        "    \n",
        "    "
      ],
      "execution_count": null,
      "outputs": []
    },
    {
      "cell_type": "code",
      "execution_count": null,
      "metadata": {
        "tags": []
      },
      "outputs": [],
      "source": [
        "# Extracts frames from video\n",
        "\n",
        "from pathlib import Path, PurePath\n",
        "import subprocess\n",
        "\n",
        "outputdir = \"/media/regieki/data/RegieKI/data/processed\"\n",
        "\n",
        "for device, emotions in data.items():\n",
        "    row = []\n",
        "    for emotion in emotions.keys():\n",
        "        src_files = [ f[0].split(\",\")[0] for f in data[device][emotion]]\n",
        "\n",
        "\n",
        "        dst = Path(outputdir).joinpath(device, emotion)\n",
        "\n",
        "        for i, src_file in enumerate(src_files):\n",
        "            src = Path(src_file)\n",
        "            dst.mkdir(parents=True, exist_ok=True)\n",
        "            cmd = f\"ffmpeg -y -i '{src}' -r 3 '{dst}/{i:06d}_%04d.png'\"\n",
        "\n",
        "            subprocess.run([cmd], capture_output=True,  shell=True, check=True)\n",
        "\n",
        "        count = len(list(dst.glob('*.png')))\n",
        "        row.append(count)\n",
        "\n",
        "    row = [ f\"{v:06d}\" for v in row]\n",
        "    print(f\"{device:>11}  \" + \"  \".join(row))\n",
        "\n",
        "\n",
        "\n",
        "\n",
        "\n",
        "\n",
        "        count = len(list(dst.glob('*.png')))\n",
        "\n",
        "        row.append(count)\n",
        "    row = [ f\"{v:06d}\" for v in row]\n",
        "    print(f\"{device:>11}  \" + \"  \".join(row))\n",
        "\n"
      ]
    },
    {
      "cell_type": "code",
      "execution_count": null,
      "metadata": {},
      "outputs": [],
      "source": []
    }
  ]
}